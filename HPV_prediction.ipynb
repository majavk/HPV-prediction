{
  "cells": [
    {
      "cell_type": "markdown",
      "metadata": {
        "id": "view-in-github",
        "colab_type": "text"
      },
      "source": [
        "<a href=\"https://colab.research.google.com/github/majavk/HPV-prediction/blob/main/HPV_prediction.ipynb\" target=\"_parent\"><img src=\"https://colab.research.google.com/assets/colab-badge.svg\" alt=\"Open In Colab\"/></a>"
      ]
    },
    {
      "cell_type": "markdown",
      "source": [
        "# HPV prediction\n",
        "\n",
        "HPV dataset was taken from EFOMP online course: AI in Medical Physics."
      ],
      "metadata": {
        "id": "kEWqOduE0F5k"
      }
    },
    {
      "cell_type": "markdown",
      "source": [
        "## Set-up"
      ],
      "metadata": {
        "id": "Bhnh83zl0YJo"
      }
    },
    {
      "cell_type": "code",
      "execution_count": null,
      "metadata": {
        "id": "LNO3Ig3QTplO"
      },
      "outputs": [],
      "source": [
        "import numpy as np            #for manipulating vectors\n",
        "import pandas as pd           #per manipulating dataframes\n",
        "\n",
        "# graphs, figures\n",
        "\n",
        "import matplotlib.pyplot as plt #for plots\n",
        "import seaborn as sns # for confusion matrix figures\n",
        "\n",
        "#machine learning tools\n",
        "\n",
        "from sklearn.tree import DecisionTreeClassifier\n",
        "from sklearn.pipeline import Pipeline\n",
        "from sklearn.preprocessing import StandardScaler,RobustScaler\n",
        "from sklearn.feature_selection import SelectFromModel\n",
        "from sklearn.ensemble import RandomForestClassifier, ExtraTreesClassifier        # ensemble machine learning model with bagging\n",
        "import xgboost as xgb      # import XGBoostClassifier, ensemble machine learning model with boosting \n",
        "from sklearn.svm import SVC #support vector machines\n",
        "from sklearn.neural_network import MLPClassifier # neural network\n",
        "from sklearn.decomposition import PCA\n",
        "\n",
        "from sklearn import feature_selection #various feature selection\n",
        "import collections\n",
        "from imblearn.over_sampling import SMOTE # SMOTE oversampling\n",
        "\n",
        "# tools for assessing the model\n",
        "\n",
        "from sklearn.metrics import classification_report, confusion_matrix, accuracy_score, precision_score, recall_score, f1_score, accuracy_score, roc_curve, auc # tools to evaluate  your model performance\n",
        "from sklearn.model_selection import train_test_split, cross_val_score, KFold,cross_val_predict, GridSearchCV   # other tools for model performance, specific for cross-validation\n",
        "from sklearn.model_selection import cross_val_score\n",
        "import time\n",
        "\n",
        "\n",
        "\n"
      ]
    },
    {
      "cell_type": "markdown",
      "source": [
        "## Data"
      ],
      "metadata": {
        "id": "HOaDWLhs0p2A"
      }
    },
    {
      "cell_type": "code",
      "execution_count": null,
      "metadata": {
        "id": "5eJokp13gFYu",
        "colab": {
          "base_uri": "https://localhost:8080/"
        },
        "outputId": "4aa543a4-5e1f-40ac-e367-db467ab9a170"
      },
      "outputs": [
        {
          "output_type": "execute_result",
          "data": {
            "text/plain": [
              "(0.568870523415978, 0.43112947658402206)"
            ]
          },
          "metadata": {},
          "execution_count": 4
        }
      ],
      "source": [
        "            \n",
        "dataset='HPV'\n",
        "\n",
        "Y = data['outcome']       \n",
        "X = data.drop('outcome', axis=1)   \n",
        "np.mean(Y), np.mean(1-Y)"
      ]
    },
    {
      "cell_type": "code",
      "source": [
        "X.head()"
      ],
      "metadata": {
        "colab": {
          "base_uri": "https://localhost:8080/",
          "height": 300
        },
        "id": "f2A0sB2iQOGs",
        "outputId": "b543445e-9b20-4ec5-bd5b-21457b8bf2a9"
      },
      "execution_count": null,
      "outputs": [
        {
          "output_type": "execute_result",
          "data": {
            "text/plain": [
              "   SmoothThreshBD_NGTDM_Busyness  SmoothThreshBD_NGTDM_Coarseness  \\\n",
              "0                       0.001009                         2.607566   \n",
              "1                       0.000557                         2.130579   \n",
              "2                       0.000275                         2.096032   \n",
              "3                       0.000227                         2.621198   \n",
              "4                       0.000626                         1.700127   \n",
              "\n",
              "   SmoothThreshBD_NGTDM_Contrast  SmoothThreshBD_IH_GlobalMin  \\\n",
              "0                       0.013772                           57   \n",
              "1                       0.009728                           57   \n",
              "2                       0.005328                           58   \n",
              "3                       0.005539                           57   \n",
              "4                       0.022274                           57   \n",
              "\n",
              "   SmoothThreshBD_IH_Kurtosis  SmoothThreshBD_GLCM_DifferenceEntropy  \\\n",
              "0                   14.717570                               1.479184   \n",
              "1                   73.478610                               1.557858   \n",
              "2                   14.911760                               1.446220   \n",
              "3                    9.671991                               1.412020   \n",
              "4                    4.308691                               1.860631   \n",
              "\n",
              "   SmoothThresh_IH_GlobalEntropy  SmoothThresh_IH_GlobalUniformity  \\\n",
              "0                       2.233362                          0.281025   \n",
              "1                       2.556784                          0.242537   \n",
              "2                       2.361069                          0.278380   \n",
              "3                       2.816237                          0.190629   \n",
              "4                       3.224254                          0.132974   \n",
              "\n",
              "   SmoothThresh_IH_Skewness  SmoothThresh_GLCM_ClusterProminence  ...  \\\n",
              "0                 -1.859840                         1.019148e+07  ...   \n",
              "1                  6.154925                         2.500000e+09  ...   \n",
              "2                 -0.582550                         5.161296e+07  ...   \n",
              "3                 -1.743020                         1.010000e+08  ...   \n",
              "4                 -0.766570                         6.923101e+07  ...   \n",
              "\n",
              "   Thresh_GLCM_Variance  Thresh_GLRLM_HighGrayLevelRunEmpha  \\\n",
              "0              1061.680                             1117511   \n",
              "1              5611.668                             1162090   \n",
              "2              2240.810                             1140094   \n",
              "3              3352.268                             1205529   \n",
              "4              4602.059                             1151931   \n",
              "\n",
              "   Thresh_GLRLM_LongRunEmphasis  Thresh_GLRLM_LongRunLowGrayLevelEmpha  \\\n",
              "0                      1.076487                           9.640000e-07   \n",
              "1                      1.087674                           9.420000e-07   \n",
              "2                      1.131667                           9.940000e-07   \n",
              "3                      1.151851                           9.570000e-07   \n",
              "4                      1.064036                           9.280000e-07   \n",
              "\n",
              "   Thresh_GLRLM_LowGrayLevelRunEmpha  Thresh_GLRLM_RunLengthNonuniformity  \\\n",
              "0                       8.960000e-07                             0.931117   \n",
              "1                       8.660000e-07                             0.920367   \n",
              "2                       8.800000e-07                             0.883602   \n",
              "3                       8.330000e-07                             0.870631   \n",
              "4                       8.730000e-07                             0.940671   \n",
              "\n",
              "   Thresh_GLRLM_RunPercentage  Thresh_GLRLM_ShortRunEmphasis  \\\n",
              "0                    0.975908                       0.982227   \n",
              "1                    0.972286                       0.979283   \n",
              "2                    0.959041                       0.969051   \n",
              "3                    0.953730                       0.965461   \n",
              "4                    0.979528                       0.984734   \n",
              "\n",
              "   Thresh_GLRLM_ShortRunHighGrayLevelEmpha  Shape_Volume  \n",
              "0                                1097452.0      4.976946  \n",
              "1                                1138080.0     24.312710  \n",
              "2                                1104457.0     14.112180  \n",
              "3                                1163426.0     35.633680  \n",
              "4                                1134047.0      5.502731  \n",
              "\n",
              "[5 rows x 49 columns]"
            ],
            "text/html": [
              "\n",
              "  <div id=\"df-dd64aab2-4597-46f7-8b0a-2ea288e5f937\">\n",
              "    <div class=\"colab-df-container\">\n",
              "      <div>\n",
              "<style scoped>\n",
              "    .dataframe tbody tr th:only-of-type {\n",
              "        vertical-align: middle;\n",
              "    }\n",
              "\n",
              "    .dataframe tbody tr th {\n",
              "        vertical-align: top;\n",
              "    }\n",
              "\n",
              "    .dataframe thead th {\n",
              "        text-align: right;\n",
              "    }\n",
              "</style>\n",
              "<table border=\"1\" class=\"dataframe\">\n",
              "  <thead>\n",
              "    <tr style=\"text-align: right;\">\n",
              "      <th></th>\n",
              "      <th>SmoothThreshBD_NGTDM_Busyness</th>\n",
              "      <th>SmoothThreshBD_NGTDM_Coarseness</th>\n",
              "      <th>SmoothThreshBD_NGTDM_Contrast</th>\n",
              "      <th>SmoothThreshBD_IH_GlobalMin</th>\n",
              "      <th>SmoothThreshBD_IH_Kurtosis</th>\n",
              "      <th>SmoothThreshBD_GLCM_DifferenceEntropy</th>\n",
              "      <th>SmoothThresh_IH_GlobalEntropy</th>\n",
              "      <th>SmoothThresh_IH_GlobalUniformity</th>\n",
              "      <th>SmoothThresh_IH_Skewness</th>\n",
              "      <th>SmoothThresh_GLCM_ClusterProminence</th>\n",
              "      <th>...</th>\n",
              "      <th>Thresh_GLCM_Variance</th>\n",
              "      <th>Thresh_GLRLM_HighGrayLevelRunEmpha</th>\n",
              "      <th>Thresh_GLRLM_LongRunEmphasis</th>\n",
              "      <th>Thresh_GLRLM_LongRunLowGrayLevelEmpha</th>\n",
              "      <th>Thresh_GLRLM_LowGrayLevelRunEmpha</th>\n",
              "      <th>Thresh_GLRLM_RunLengthNonuniformity</th>\n",
              "      <th>Thresh_GLRLM_RunPercentage</th>\n",
              "      <th>Thresh_GLRLM_ShortRunEmphasis</th>\n",
              "      <th>Thresh_GLRLM_ShortRunHighGrayLevelEmpha</th>\n",
              "      <th>Shape_Volume</th>\n",
              "    </tr>\n",
              "  </thead>\n",
              "  <tbody>\n",
              "    <tr>\n",
              "      <th>0</th>\n",
              "      <td>0.001009</td>\n",
              "      <td>2.607566</td>\n",
              "      <td>0.013772</td>\n",
              "      <td>57</td>\n",
              "      <td>14.717570</td>\n",
              "      <td>1.479184</td>\n",
              "      <td>2.233362</td>\n",
              "      <td>0.281025</td>\n",
              "      <td>-1.859840</td>\n",
              "      <td>1.019148e+07</td>\n",
              "      <td>...</td>\n",
              "      <td>1061.680</td>\n",
              "      <td>1117511</td>\n",
              "      <td>1.076487</td>\n",
              "      <td>9.640000e-07</td>\n",
              "      <td>8.960000e-07</td>\n",
              "      <td>0.931117</td>\n",
              "      <td>0.975908</td>\n",
              "      <td>0.982227</td>\n",
              "      <td>1097452.0</td>\n",
              "      <td>4.976946</td>\n",
              "    </tr>\n",
              "    <tr>\n",
              "      <th>1</th>\n",
              "      <td>0.000557</td>\n",
              "      <td>2.130579</td>\n",
              "      <td>0.009728</td>\n",
              "      <td>57</td>\n",
              "      <td>73.478610</td>\n",
              "      <td>1.557858</td>\n",
              "      <td>2.556784</td>\n",
              "      <td>0.242537</td>\n",
              "      <td>6.154925</td>\n",
              "      <td>2.500000e+09</td>\n",
              "      <td>...</td>\n",
              "      <td>5611.668</td>\n",
              "      <td>1162090</td>\n",
              "      <td>1.087674</td>\n",
              "      <td>9.420000e-07</td>\n",
              "      <td>8.660000e-07</td>\n",
              "      <td>0.920367</td>\n",
              "      <td>0.972286</td>\n",
              "      <td>0.979283</td>\n",
              "      <td>1138080.0</td>\n",
              "      <td>24.312710</td>\n",
              "    </tr>\n",
              "    <tr>\n",
              "      <th>2</th>\n",
              "      <td>0.000275</td>\n",
              "      <td>2.096032</td>\n",
              "      <td>0.005328</td>\n",
              "      <td>58</td>\n",
              "      <td>14.911760</td>\n",
              "      <td>1.446220</td>\n",
              "      <td>2.361069</td>\n",
              "      <td>0.278380</td>\n",
              "      <td>-0.582550</td>\n",
              "      <td>5.161296e+07</td>\n",
              "      <td>...</td>\n",
              "      <td>2240.810</td>\n",
              "      <td>1140094</td>\n",
              "      <td>1.131667</td>\n",
              "      <td>9.940000e-07</td>\n",
              "      <td>8.800000e-07</td>\n",
              "      <td>0.883602</td>\n",
              "      <td>0.959041</td>\n",
              "      <td>0.969051</td>\n",
              "      <td>1104457.0</td>\n",
              "      <td>14.112180</td>\n",
              "    </tr>\n",
              "    <tr>\n",
              "      <th>3</th>\n",
              "      <td>0.000227</td>\n",
              "      <td>2.621198</td>\n",
              "      <td>0.005539</td>\n",
              "      <td>57</td>\n",
              "      <td>9.671991</td>\n",
              "      <td>1.412020</td>\n",
              "      <td>2.816237</td>\n",
              "      <td>0.190629</td>\n",
              "      <td>-1.743020</td>\n",
              "      <td>1.010000e+08</td>\n",
              "      <td>...</td>\n",
              "      <td>3352.268</td>\n",
              "      <td>1205529</td>\n",
              "      <td>1.151851</td>\n",
              "      <td>9.570000e-07</td>\n",
              "      <td>8.330000e-07</td>\n",
              "      <td>0.870631</td>\n",
              "      <td>0.953730</td>\n",
              "      <td>0.965461</td>\n",
              "      <td>1163426.0</td>\n",
              "      <td>35.633680</td>\n",
              "    </tr>\n",
              "    <tr>\n",
              "      <th>4</th>\n",
              "      <td>0.000626</td>\n",
              "      <td>1.700127</td>\n",
              "      <td>0.022274</td>\n",
              "      <td>57</td>\n",
              "      <td>4.308691</td>\n",
              "      <td>1.860631</td>\n",
              "      <td>3.224254</td>\n",
              "      <td>0.132974</td>\n",
              "      <td>-0.766570</td>\n",
              "      <td>6.923101e+07</td>\n",
              "      <td>...</td>\n",
              "      <td>4602.059</td>\n",
              "      <td>1151931</td>\n",
              "      <td>1.064036</td>\n",
              "      <td>9.280000e-07</td>\n",
              "      <td>8.730000e-07</td>\n",
              "      <td>0.940671</td>\n",
              "      <td>0.979528</td>\n",
              "      <td>0.984734</td>\n",
              "      <td>1134047.0</td>\n",
              "      <td>5.502731</td>\n",
              "    </tr>\n",
              "  </tbody>\n",
              "</table>\n",
              "<p>5 rows × 49 columns</p>\n",
              "</div>\n",
              "      <button class=\"colab-df-convert\" onclick=\"convertToInteractive('df-dd64aab2-4597-46f7-8b0a-2ea288e5f937')\"\n",
              "              title=\"Convert this dataframe to an interactive table.\"\n",
              "              style=\"display:none;\">\n",
              "        \n",
              "  <svg xmlns=\"http://www.w3.org/2000/svg\" height=\"24px\"viewBox=\"0 0 24 24\"\n",
              "       width=\"24px\">\n",
              "    <path d=\"M0 0h24v24H0V0z\" fill=\"none\"/>\n",
              "    <path d=\"M18.56 5.44l.94 2.06.94-2.06 2.06-.94-2.06-.94-.94-2.06-.94 2.06-2.06.94zm-11 1L8.5 8.5l.94-2.06 2.06-.94-2.06-.94L8.5 2.5l-.94 2.06-2.06.94zm10 10l.94 2.06.94-2.06 2.06-.94-2.06-.94-.94-2.06-.94 2.06-2.06.94z\"/><path d=\"M17.41 7.96l-1.37-1.37c-.4-.4-.92-.59-1.43-.59-.52 0-1.04.2-1.43.59L10.3 9.45l-7.72 7.72c-.78.78-.78 2.05 0 2.83L4 21.41c.39.39.9.59 1.41.59.51 0 1.02-.2 1.41-.59l7.78-7.78 2.81-2.81c.8-.78.8-2.07 0-2.86zM5.41 20L4 18.59l7.72-7.72 1.47 1.35L5.41 20z\"/>\n",
              "  </svg>\n",
              "      </button>\n",
              "      \n",
              "  <style>\n",
              "    .colab-df-container {\n",
              "      display:flex;\n",
              "      flex-wrap:wrap;\n",
              "      gap: 12px;\n",
              "    }\n",
              "\n",
              "    .colab-df-convert {\n",
              "      background-color: #E8F0FE;\n",
              "      border: none;\n",
              "      border-radius: 50%;\n",
              "      cursor: pointer;\n",
              "      display: none;\n",
              "      fill: #1967D2;\n",
              "      height: 32px;\n",
              "      padding: 0 0 0 0;\n",
              "      width: 32px;\n",
              "    }\n",
              "\n",
              "    .colab-df-convert:hover {\n",
              "      background-color: #E2EBFA;\n",
              "      box-shadow: 0px 1px 2px rgba(60, 64, 67, 0.3), 0px 1px 3px 1px rgba(60, 64, 67, 0.15);\n",
              "      fill: #174EA6;\n",
              "    }\n",
              "\n",
              "    [theme=dark] .colab-df-convert {\n",
              "      background-color: #3B4455;\n",
              "      fill: #D2E3FC;\n",
              "    }\n",
              "\n",
              "    [theme=dark] .colab-df-convert:hover {\n",
              "      background-color: #434B5C;\n",
              "      box-shadow: 0px 1px 3px 1px rgba(0, 0, 0, 0.15);\n",
              "      filter: drop-shadow(0px 1px 2px rgba(0, 0, 0, 0.3));\n",
              "      fill: #FFFFFF;\n",
              "    }\n",
              "  </style>\n",
              "\n",
              "      <script>\n",
              "        const buttonEl =\n",
              "          document.querySelector('#df-dd64aab2-4597-46f7-8b0a-2ea288e5f937 button.colab-df-convert');\n",
              "        buttonEl.style.display =\n",
              "          google.colab.kernel.accessAllowed ? 'block' : 'none';\n",
              "\n",
              "        async function convertToInteractive(key) {\n",
              "          const element = document.querySelector('#df-dd64aab2-4597-46f7-8b0a-2ea288e5f937');\n",
              "          const dataTable =\n",
              "            await google.colab.kernel.invokeFunction('convertToInteractive',\n",
              "                                                     [key], {});\n",
              "          if (!dataTable) return;\n",
              "\n",
              "          const docLinkHtml = 'Like what you see? Visit the ' +\n",
              "            '<a target=\"_blank\" href=https://colab.research.google.com/notebooks/data_table.ipynb>data table notebook</a>'\n",
              "            + ' to learn more about interactive tables.';\n",
              "          element.innerHTML = '';\n",
              "          dataTable['output_type'] = 'display_data';\n",
              "          await google.colab.output.renderOutput(dataTable, element);\n",
              "          const docLink = document.createElement('div');\n",
              "          docLink.innerHTML = docLinkHtml;\n",
              "          element.appendChild(docLink);\n",
              "        }\n",
              "      </script>\n",
              "    </div>\n",
              "  </div>\n",
              "  "
            ]
          },
          "metadata": {},
          "execution_count": 6
        }
      ]
    },
    {
      "cell_type": "code",
      "execution_count": 26,
      "metadata": {
        "id": "UVL4peoEpoPF",
        "colab": {
          "base_uri": "https://localhost:8080/"
        },
        "outputId": "61087330-a30f-4735-a5d9-6dcbd7ed9b95"
      },
      "outputs": [
        {
          "output_type": "stream",
          "name": "stdout",
          "text": [
            "Train set without SMOTE:  Counter({1: 288, 0: 220})\n",
            "Train set with SMOTE:  Counter({1: 288, 0: 288})\n"
          ]
        }
      ],
      "source": [
        "# split the dataset into train and test datasets and check if your dataset is balanced\n",
        "X_train, X_test, Y_train, Y_test = train_test_split (X, Y, test_size = 0.30, random_state=21)\n",
        "\n",
        "print(\"Train set without SMOTE: \", collections.Counter(Y_train))\n",
        "\n",
        "sm = SMOTE(random_state=15);stringSMOTE='no'\n",
        "\n",
        "# SMOTE oversampling, even though the dataset is not disbalanced, this is attempt to improve the recall.\n",
        "\n",
        "X_train, Y_train = sm.fit_resample(X_train, Y_train);print(\"Train set with SMOTE: \", collections.Counter(Y_train))"
      ]
    },
    {
      "cell_type": "code",
      "source": [
        "collections.Counter(Y_train)"
      ],
      "metadata": {
        "colab": {
          "base_uri": "https://localhost:8080/"
        },
        "id": "FZrv3j1XDozb",
        "outputId": "a27094c6-26a6-4314-85a3-968fe1247b21"
      },
      "execution_count": 27,
      "outputs": [
        {
          "output_type": "execute_result",
          "data": {
            "text/plain": [
              "Counter({1: 288, 0: 288})"
            ]
          },
          "metadata": {},
          "execution_count": 27
        }
      ]
    },
    {
      "cell_type": "code",
      "source": [
        "X_train.shape"
      ],
      "metadata": {
        "colab": {
          "base_uri": "https://localhost:8080/"
        },
        "id": "RmUTUJhRDyVt",
        "outputId": "cfe3dc82-420e-403c-d0d2-a97928e6b8cd"
      },
      "execution_count": 28,
      "outputs": [
        {
          "output_type": "execute_result",
          "data": {
            "text/plain": [
              "(576, 49)"
            ]
          },
          "metadata": {},
          "execution_count": 28
        }
      ]
    },
    {
      "cell_type": "markdown",
      "source": [
        "## Machine Learning Pipeline"
      ],
      "metadata": {
        "id": "aTvn7zEH1NaK"
      }
    },
    {
      "cell_type": "code",
      "execution_count": 51,
      "metadata": {
        "id": "s635Dglwgtqp"
      },
      "outputs": [],
      "source": [
        "pca = PCA()\n",
        "clf = DecisionTreeClassifier() \n",
        "#feature selection\n",
        "f5 = SelectFromModel(estimator=RandomForestClassifier())  # selects features according to importance, requires classifier estimating importance\n",
        "pipe = Pipeline([('pca', pca),('FS', f5),('clf', clf)])"
      ]
    },
    {
      "cell_type": "code",
      "execution_count": 52,
      "metadata": {
        "id": "AuPEcLG81Gyc",
        "colab": {
          "base_uri": "https://localhost:8080/"
        },
        "outputId": "47eb7630-bc6e-453c-9018-67f0ba174522"
      },
      "outputs": [
        {
          "output_type": "stream",
          "name": "stdout",
          "text": [
            "dict_keys(['memory', 'steps', 'verbose', 'pca', 'FS', 'clf', 'pca__copy', 'pca__iterated_power', 'pca__n_components', 'pca__random_state', 'pca__svd_solver', 'pca__tol', 'pca__whiten', 'FS__estimator__bootstrap', 'FS__estimator__ccp_alpha', 'FS__estimator__class_weight', 'FS__estimator__criterion', 'FS__estimator__max_depth', 'FS__estimator__max_features', 'FS__estimator__max_leaf_nodes', 'FS__estimator__max_samples', 'FS__estimator__min_impurity_decrease', 'FS__estimator__min_samples_leaf', 'FS__estimator__min_samples_split', 'FS__estimator__min_weight_fraction_leaf', 'FS__estimator__n_estimators', 'FS__estimator__n_jobs', 'FS__estimator__oob_score', 'FS__estimator__random_state', 'FS__estimator__verbose', 'FS__estimator__warm_start', 'FS__estimator', 'FS__importance_getter', 'FS__max_features', 'FS__norm_order', 'FS__prefit', 'FS__threshold', 'clf__ccp_alpha', 'clf__class_weight', 'clf__criterion', 'clf__max_depth', 'clf__max_features', 'clf__max_leaf_nodes', 'clf__min_impurity_decrease', 'clf__min_samples_leaf', 'clf__min_samples_split', 'clf__min_weight_fraction_leaf', 'clf__random_state', 'clf__splitter'])\n"
          ]
        }
      ],
      "source": [
        "print(pipe.get_params().keys())         # let's have a look to the hyperparameters in the pipeline"
      ]
    },
    {
      "cell_type": "code",
      "execution_count": 53,
      "metadata": {
        "id": "39vrSLd4Cpd9",
        "colab": {
          "base_uri": "https://localhost:8080/"
        },
        "outputId": "d4116701-dc7a-429c-ec5f-2ad153de15b8"
      },
      "outputs": [
        {
          "output_type": "stream",
          "name": "stdout",
          "text": [
            "{'FS__max_features': [3, 5, 10, 16, 30], 'clf__max_depth': [3, 5, 10, 16]}\n"
          ]
        }
      ],
      "source": [
        "# search for best performing hyperparameters:\n",
        "\n",
        "param_grid_fs = {'FS__n_features_to_select': [3,5,10,16,30]};           \n",
        "if f5.__class__.__name__=='SelectFromModel':param_grid_fs = {'FS__max_features': [3,5,10,16,30]}      #for SelectFromModel use 'FS__max_features'\n",
        "param_grid_clf ={'clf__max_depth':[3,5,10,16]}\n",
        "if clf.__class__.__name__=='SVC': param_grid_clf = {'clf__C' : [0.5,1.0]}\n",
        "if clf.__class__.__name__=='MLPClassifier': param_grid_clf = {'clf__hidden_layer_sizes': [(20,20)],'clf__activation': ['relu','logistic'],'clf__nesterovs_momentum': [True], 'clf__max_iter':[1000], \n",
        "                                                              'clf__learning_rate':['adaptive'], 'clf__shuffle':[True]};\n",
        "\n",
        "\n",
        "\n",
        "param_grid = {**param_grid_fs, **param_grid_clf}\n",
        "\n",
        "print(param_grid) "
      ]
    },
    {
      "cell_type": "code",
      "execution_count": 54,
      "metadata": {
        "id": "zPpdOcQbuC5B",
        "colab": {
          "base_uri": "https://localhost:8080/"
        },
        "outputId": "382f4b3e-fcf0-4478-9adc-0a7714771672"
      },
      "outputs": [
        {
          "output_type": "stream",
          "name": "stdout",
          "text": [
            "Fitting 5 folds for each of 20 candidates, totalling 100 fits\n",
            "{'FS__max_features': 3, 'clf__max_depth': 3}\n",
            "time taken to run: 19.511962013999437\n",
            "19.511962013999437\n"
          ]
        }
      ],
      "source": [
        "t1 = time.perf_counter()  \n",
        "\n",
        "# search the set of hyperparameters providing the best result in 5-fold cross-validation \n",
        "search = GridSearchCV(pipe, param_grid, n_jobs=-1, cv=5, verbose=2) #define a search strategy\n",
        "rf_fit=search.fit(X_train, Y_train)\n",
        "\n",
        "print(search.best_params_)\n",
        "\n",
        "t2 = time.perf_counter(); print('time taken to run:',t2-t1)\n",
        "\n",
        "rf_fit.best_estimator_\n",
        "\n",
        "print(t2-t1)"
      ]
    },
    {
      "cell_type": "code",
      "source": [
        "print(search.best_params_)"
      ],
      "metadata": {
        "colab": {
          "base_uri": "https://localhost:8080/"
        },
        "id": "Ccyl5JTHHyJi",
        "outputId": "10d670a3-d9aa-41c4-f00d-33fdb38db3e8"
      },
      "execution_count": 55,
      "outputs": [
        {
          "output_type": "stream",
          "name": "stdout",
          "text": [
            "{'FS__max_features': 3, 'clf__max_depth': 3}\n"
          ]
        }
      ]
    },
    {
      "cell_type": "markdown",
      "source": [
        "## Model evaluation"
      ],
      "metadata": {
        "id": "ZxnE4ekR2fpG"
      }
    },
    {
      "cell_type": "code",
      "execution_count": 56,
      "metadata": {
        "id": "C50qp2ZVaZYW",
        "colab": {
          "base_uri": "https://localhost:8080/",
          "height": 369
        },
        "outputId": "1724dae2-3691-4f2f-cd14-8498c71b50c9"
      },
      "outputs": [
        {
          "output_type": "stream",
          "name": "stdout",
          "text": [
            "Accuracy: 0.619\n",
            "Precision: 0.662\n",
            "Recall (also termed sensitivity): 0.688\n",
            "Specificity (=recall of negative): 0.527\n"
          ]
        },
        {
          "output_type": "display_data",
          "data": {
            "text/plain": [
              "<Figure size 432x288 with 2 Axes>"
            ],
            "image/png": "[encoded data removed]"
          },
          "metadata": {
            "needs_background": "light"
          }
        }
      ],
      "source": [
        "predictions = rf_fit.predict(X_test)\n",
        "\n",
        "com = confusion_matrix(Y_test,predictions)\n",
        "sns.heatmap(com,annot=True,fmt=\"d\")\n",
        "plt.xlabel('Predictions', fontsize=12)\n",
        "plt.ylabel('Actuals', fontsize=12)\n",
        "plt.title('Confusion Matrix in validation, '+clf.__class__.__name__, fontsize=12)\n",
        "\n",
        "print('Accuracy: %.3f' % accuracy_score(Y_test,predictions))\n",
        "print('Precision: %.3f' % precision_score(Y_test, predictions))\n",
        "print('Recall (also termed sensitivity): %.3f' % recall_score(Y_test, predictions))\n",
        "print('Specificity (=recall of negative): %.3f' % recall_score(Y_test, predictions,pos_label=0))"
      ]
    },
    {
      "cell_type": "code",
      "execution_count": 57,
      "metadata": {
        "id": "qapSJWKa5Aey",
        "colab": {
          "base_uri": "https://localhost:8080/",
          "height": 621
        },
        "outputId": "b259835a-8965-4d6e-a69c-1f3217441c3f"
      },
      "outputs": [
        {
          "output_type": "display_data",
          "data": {
            "text/plain": [
              "<Figure size 720x720 with 1 Axes>"
            ],
            "image/png": "[encoded data removed]"
          },
          "metadata": {
            "needs_background": "light"
          }
        }
      ],
      "source": [
        "\n",
        "if clf.__class__.__name__!='SVC' and clf.__class__.__name__!='MLPClassifier':\n",
        "  y_prob = rf_fit.best_estimator_.predict_proba(X_test)\n",
        "  y_sorted = np.unique(Y)\n",
        "  indices = np.argmax(y_prob, axis=1)\n",
        "  \n",
        "  y_pred = y_sorted[indices]\n",
        "\n",
        "  y_prob[:,0]\n",
        "\n",
        "  false_positive_rate, true_positive_rate, thresholds = roc_curve(Y_test, y_prob[:,1])\n",
        "  roc_auc = auc(false_positive_rate, true_positive_rate)\n",
        "\n",
        "  plt.figure(figsize=(10,10));plt.title('Receiver Operating Characteristic, '+clf.__class__.__name__)\n",
        "  plt.plot(false_positive_rate,true_positive_rate, color='red',label = 'AUC = %0.2f' % roc_auc)\n",
        "  plt.legend(loc = 'lower right')\n",
        "  plt.plot([0, 1], [0, 1],linestyle='--')\n",
        "  plt.axis('tight');plt.ylabel('True Positive Rate');plt.xlabel('False Positive Rate')"
      ]
    },
    {
      "cell_type": "markdown",
      "source": [
        "## Model Interpertability"
      ],
      "metadata": {
        "id": "baMpavJS2nu-"
      }
    },
    {
      "cell_type": "code",
      "execution_count": 58,
      "metadata": {
        "id": "CAxpwkkgT6HU",
        "colab": {
          "base_uri": "https://localhost:8080/",
          "height": 333
        },
        "outputId": "2ae57924-1197-4191-c828-97a0ef7d6de9"
      },
      "outputs": [
        {
          "output_type": "stream",
          "name": "stdout",
          "text": [
            "Index(['SmoothThreshBD_IH_GlobalMin', 'SmoothThreshBD_GLCM_DifferenceEntropy',\n",
            "       'SmoothThresh_IH_GlobalEntropy'],\n",
            "      dtype='object')\n"
          ]
        },
        {
          "output_type": "display_data",
          "data": {
            "text/plain": [
              "<Figure size 432x288 with 1 Axes>"
            ],
            "image/png": "[encoded data removed]"
          },
          "metadata": {
            "needs_background": "light"
          }
        }
      ],
      "source": [
        "feature_idx =search.best_estimator_.named_steps[\"FS\"].get_support()\n",
        "feature_name = X_train.columns[feature_idx]\n",
        "print(feature_name)\n",
        "\n",
        "if clf.__class__.__name__!='SVC' and clf.__class__.__name__!='MLPClassifier':\n",
        "\n",
        "  sorted_idx = search.best_estimator_.named_steps[\"clf\"].feature_importances_.argsort()\n",
        "  plt.barh(feature_name[sorted_idx], search.best_estimator_.named_steps[\"clf\"].feature_importances_[sorted_idx])\n",
        "  plt.xlabel(\"Feature Importance\");"
      ]
    },
    {
      "cell_type": "code",
      "execution_count": 59,
      "metadata": {
        "id": "jqLmEC6XReZ5",
        "colab": {
          "base_uri": "https://localhost:8080/",
          "height": 693
        },
        "outputId": "43185ad6-3d4f-4442-b76e-705b636cbf54"
      },
      "outputs": [
        {
          "output_type": "display_data",
          "data": {
            "text/plain": [
              "<Figure size 576x576 with 2 Axes>"
            ],
            "image/png": "[encoded data removed]"
          },
          "metadata": {
            "needs_background": "light"
          }
        }
      ],
      "source": [
        "df = pd.DataFrame(X_train,columns=feature_name)\n",
        "fig = plt.figure(figsize=(8, 8))\n",
        "dataplot=sns.heatmap(df.corr())\n",
        "plt.show()"
      ]
    },
    {
      "cell_type": "code",
      "execution_count": 60,
      "metadata": {
        "id": "taQH8lDAlfHg",
        "colab": {
          "base_uri": "https://localhost:8080/"
        },
        "outputId": "ca05649c-ecb0-41ca-f80f-6072b00a26e8"
      },
      "outputs": [
        {
          "output_type": "execute_result",
          "data": {
            "text/plain": [
              "MannwhitneyuResult(statistic=array([42076., 43143., 43902.]), pvalue=array([0.54297846, 0.40288368, 0.2237785 ]))"
            ]
          },
          "metadata": {},
          "execution_count": 60
        }
      ],
      "source": [
        "# we use the Wilcoxon rank-sum test to assess if the features are different between positives and negatives\n",
        "\n",
        "import scipy.stats as stats\n",
        "\n",
        "stats.mannwhitneyu(df[Y_train==0], df[Y_train==1])"
      ]
    }
  ],
  "metadata": {
    "colab": {
      "provenance": [],
      "include_colab_link": true
    },
    "kernelspec": {
      "display_name": "Python 3",
      "name": "python3"
    },
    "language_info": {
      "name": "python"
    }
  },
  "nbformat": 4,
  "nbformat_minor": 0
}